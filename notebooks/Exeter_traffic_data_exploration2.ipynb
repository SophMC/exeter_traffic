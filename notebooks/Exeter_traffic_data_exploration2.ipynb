{
 "cells": [
  {
   "cell_type": "code",
   "execution_count": 23,
   "metadata": {
    "collapsed": true
   },
   "outputs": [],
   "source": [
    "import pandas as pd\n",
    "import numpy as np\n",
    "import seaborn as sns \n",
    "%matplotlib inline"
   ]
  },
  {
   "cell_type": "code",
   "execution_count": 28,
   "metadata": {
    "collapsed": false
   },
   "outputs": [],
   "source": [
    "# data is stored in the same directory as the notebook\n",
    "data = pd.read_csv(\"AADF_Devon_VehicleFlows.csv\", header = 0)"
   ]
  },
  {
   "cell_type": "code",
   "execution_count": 25,
   "metadata": {
    "collapsed": false
   },
   "outputs": [
    {
     "data": {
      "text/html": [
       "<div>\n",
       "<table border=\"1\" class=\"dataframe\">\n",
       "  <thead>\n",
       "    <tr style=\"text-align: right;\">\n",
       "      <th></th>\n",
       "      <th>AADFYear</th>\n",
       "      <th>CP</th>\n",
       "      <th>Region</th>\n",
       "      <th>LocalAuthority</th>\n",
       "      <th>Road</th>\n",
       "      <th>RoadCategory</th>\n",
       "      <th>Easting</th>\n",
       "      <th>Northing</th>\n",
       "      <th>StartJunction</th>\n",
       "      <th>EndJunction</th>\n",
       "      <th>...</th>\n",
       "      <th>BusesCoaches</th>\n",
       "      <th>LightGoodsVehicles</th>\n",
       "      <th>V2AxleRigidHGV</th>\n",
       "      <th>V3AxleRigidHGV</th>\n",
       "      <th>V4or5AxleRigidHGV</th>\n",
       "      <th>V3or4AxleArticHGV</th>\n",
       "      <th>V5AxleArticHGV</th>\n",
       "      <th>V6orMoreAxleArticHGV</th>\n",
       "      <th>AllHGVs</th>\n",
       "      <th>AllMotorVehicles</th>\n",
       "    </tr>\n",
       "  </thead>\n",
       "  <tbody>\n",
       "    <tr>\n",
       "      <th>32</th>\n",
       "      <td>2000</td>\n",
       "      <td>16297</td>\n",
       "      <td>South West</td>\n",
       "      <td>Devon</td>\n",
       "      <td>A30</td>\n",
       "      <td>TR</td>\n",
       "      <td>310000</td>\n",
       "      <td>97900</td>\n",
       "      <td>NaN</td>\n",
       "      <td>NaN</td>\n",
       "      <td>...</td>\n",
       "      <td>89</td>\n",
       "      <td>2479</td>\n",
       "      <td>537</td>\n",
       "      <td>97</td>\n",
       "      <td>44</td>\n",
       "      <td>135</td>\n",
       "      <td>262</td>\n",
       "      <td>155</td>\n",
       "      <td>1230</td>\n",
       "      <td>22079</td>\n",
       "    </tr>\n",
       "    <tr>\n",
       "      <th>143</th>\n",
       "      <td>2000</td>\n",
       "      <td>56290</td>\n",
       "      <td>South West</td>\n",
       "      <td>Devon</td>\n",
       "      <td>A30</td>\n",
       "      <td>TR</td>\n",
       "      <td>308000</td>\n",
       "      <td>97200</td>\n",
       "      <td>NaN</td>\n",
       "      <td>NaN</td>\n",
       "      <td>...</td>\n",
       "      <td>49</td>\n",
       "      <td>2107</td>\n",
       "      <td>500</td>\n",
       "      <td>96</td>\n",
       "      <td>42</td>\n",
       "      <td>135</td>\n",
       "      <td>230</td>\n",
       "      <td>185</td>\n",
       "      <td>1188</td>\n",
       "      <td>20630</td>\n",
       "    </tr>\n",
       "  </tbody>\n",
       "</table>\n",
       "<p>2 rows × 25 columns</p>\n",
       "</div>"
      ],
      "text/plain": [
       "     AADFYear     CP      Region LocalAuthority Road RoadCategory  Easting  \\\n",
       "32       2000  16297  South West          Devon  A30           TR   310000   \n",
       "143      2000  56290  South West          Devon  A30           TR   308000   \n",
       "\n",
       "     Northing StartJunction EndJunction        ...         BusesCoaches  \\\n",
       "32      97900           NaN         NaN        ...                   89   \n",
       "143     97200           NaN         NaN        ...                   49   \n",
       "\n",
       "     LightGoodsVehicles  V2AxleRigidHGV  V3AxleRigidHGV  V4or5AxleRigidHGV  \\\n",
       "32                 2479             537              97                 44   \n",
       "143                2107             500              96                 42   \n",
       "\n",
       "     V3or4AxleArticHGV  V5AxleArticHGV  V6orMoreAxleArticHGV  AllHGVs  \\\n",
       "32                 135             262                   155     1230   \n",
       "143                135             230                   185     1188   \n",
       "\n",
       "     AllMotorVehicles  \n",
       "32              22079  \n",
       "143             20630  \n",
       "\n",
       "[2 rows x 25 columns]"
      ]
     },
     "execution_count": 25,
     "metadata": {},
     "output_type": "execute_result"
    }
   ],
   "source": [
    "data[\"StartJunction\"].isnull().sum()\n",
    "data[data[\"StartJunction\"].isnull()]\n",
    "\n",
    "# need to drop these two values from  data"
   ]
  },
  {
   "cell_type": "code",
   "execution_count": 26,
   "metadata": {
    "collapsed": true
   },
   "outputs": [],
   "source": [
    "data = data.dropna()"
   ]
  },
  {
   "cell_type": "code",
   "execution_count": 27,
   "metadata": {
    "collapsed": false
   },
   "outputs": [
    {
     "data": {
      "text/plain": [
       "AADFYear                3450\n",
       "CP                      3450\n",
       "Region                  3450\n",
       "LocalAuthority          3450\n",
       "Road                    3450\n",
       "RoadCategory            3450\n",
       "Easting                 3450\n",
       "Northing                3450\n",
       "StartJunction           3450\n",
       "EndJunction             3450\n",
       "LinkLength_km           3450\n",
       "LinkLength_miles        3450\n",
       "PedalCycles             3450\n",
       "Motorcycles             3450\n",
       "CarsTaxis               3450\n",
       "BusesCoaches            3450\n",
       "LightGoodsVehicles      3450\n",
       "V2AxleRigidHGV          3450\n",
       "V3AxleRigidHGV          3450\n",
       "V4or5AxleRigidHGV       3450\n",
       "V3or4AxleArticHGV       3450\n",
       "V5AxleArticHGV          3450\n",
       "V6orMoreAxleArticHGV    3450\n",
       "AllHGVs                 3450\n",
       "AllMotorVehicles        3450\n",
       "dtype: int64"
      ]
     },
     "execution_count": 27,
     "metadata": {},
     "output_type": "execute_result"
    }
   ],
   "source": [
    "data.count()\n",
    "\n",
    "# now these should all be the same, down from 2450"
   ]
  },
  {
   "cell_type": "code",
   "execution_count": 17,
   "metadata": {
    "collapsed": false
   },
   "outputs": [],
   "source": [
    "# group by year\n",
    "group = data.groupby(['AADFYear'])\n",
    "\n",
    "# make a new dataframe of a few columns of interest\n",
    "data_group = group['PedalCycles','AllHGVs','AllMotorVehicles'].agg(['mean','std','count'])"
   ]
  },
  {
   "cell_type": "code",
   "execution_count": 18,
   "metadata": {
    "collapsed": false
   },
   "outputs": [
    {
     "name": "stdout",
     "output_type": "stream",
     "text": [
      "         PedalCycles                       AllHGVs                     \\\n",
      "                mean         std count        mean          std count   \n",
      "AADFYear                                                                \n",
      "2000       24.951327   42.064525   226  793.407080  1196.326460   226   \n",
      "2001       26.372807   56.267036   228  799.394737  1207.978477   228   \n",
      "2002       22.438596   42.575465   228  797.504386  1198.353036   228   \n",
      "2003       25.478070   62.634204   228  762.043860  1088.149806   228   \n",
      "2004       22.916667   54.950816   228  796.381579  1207.246454   228   \n",
      "2005       20.780702   46.621781   228  792.890351  1195.698541   228   \n",
      "2006       23.429825   47.421062   228  772.570175  1133.761439   228   \n",
      "2007       18.580087   36.785055   231  783.160173  1197.491962   231   \n",
      "2008       28.266094   71.541388   233  731.828326  1061.730663   233   \n",
      "2009       29.030043   65.023894   233  660.025751   966.586778   233   \n",
      "2010       29.369099   63.441877   233  655.347639   973.602075   233   \n",
      "2011       31.553648   69.606950   233  679.369099  1020.821238   233   \n",
      "2012       28.870130   55.686471   231  702.597403  1049.020972   231   \n",
      "2013       36.155844  103.543782   231  699.108225  1037.052554   231   \n",
      "2014       34.714286   92.919253   231  707.683983  1077.763889   231   \n",
      "\n",
      "         AllMotorVehicles                      \n",
      "                     mean           std count  \n",
      "AADFYear                                       \n",
      "2000         14014.305310  12928.341193   226  \n",
      "2001         14402.320175  13449.607652   228  \n",
      "2002         14744.008772  13677.509276   228  \n",
      "2003         14960.065789  13737.564049   228  \n",
      "2004         15235.127193  14079.442034   228  \n",
      "2005         15501.236842  14680.869661   228  \n",
      "2006         15624.548246  14645.407710   228  \n",
      "2007         15144.476190  14148.053188   231  \n",
      "2008         15262.626609  14259.036433   233  \n",
      "2009         15284.025751  14282.589646   233  \n",
      "2010         15070.665236  14000.078143   233  \n",
      "2011         15156.918455  14068.035293   233  \n",
      "2012         15119.311688  14138.545929   231  \n",
      "2013         15194.017316  14467.677042   231  \n",
      "2014         15391.883117  14690.201428   231  \n"
     ]
    }
   ],
   "source": [
    "print(data_group)"
   ]
  },
  {
   "cell_type": "code",
   "execution_count": 22,
   "metadata": {
    "collapsed": false
   },
   "outputs": [
    {
     "data": {
      "text/plain": [
       "<matplotlib.axes._subplots.AxesSubplot at 0x7fc948dfe940>"
      ]
     },
     "execution_count": 22,
     "metadata": {},
     "output_type": "execute_result"
    },
    {
     "data": {
      "image/png": "[encoded data removed]",
      "text/plain": [
       "<matplotlib.figure.Figure at 0x7fc948e040b8>"
      ]
     },
     "metadata": {},
     "output_type": "display_data"
    }
   ],
   "source": [
    "data_group.PedalCycles['mean'].plot(figsize=(8,8), yerr = data_group.PedalCycles['std'])"
   ]
  },
  {
   "cell_type": "code",
   "execution_count": 15,
   "metadata": {
    "collapsed": false
   },
   "outputs": [
    {
     "data": {
      "image/png": "[encoded data removed]",
      "text/plain": [
       "<matplotlib.figure.Figure at 0x7fc949005400>"
      ]
     },
     "metadata": {},
     "output_type": "display_data"
    }
   ],
   "source": [
    "ax = sns.boxplot(x=\"AADFYear\", y=\"PedalCycles\", data=data)"
   ]
  },
  {
   "cell_type": "code",
   "execution_count": 38,
   "metadata": {
    "collapsed": false
   },
   "outputs": [
    {
     "name": "stdout",
     "output_type": "stream",
     "text": [
      "2953\n",
      "499\n"
     ]
    }
   ],
   "source": [
    "# put all rows where cycling is 0 into a new dataframe for investigation\n",
    "\n",
    "cycles_gt0 = data[data[\"PedalCycles\"] > 0]\n",
    "cycles_0 = data[data[\"PedalCycles\"] == 0]\n",
    "print(len(cycles_gt0))\n",
    "print(len(cycles_0))"
   ]
  },
  {
   "cell_type": "code",
   "execution_count": 42,
   "metadata": {
    "collapsed": false
   },
   "outputs": [
    {
     "name": "stdout",
     "output_type": "stream",
     "text": [
      "roads which have had cycles on them since 2000 = \n",
      " ['A379' 'A38' 'A39' 'A303' 'A358' 'A376' 'A380' 'A381' 'A382' 'A383' 'A385'\n",
      " 'A386' 'A396' 'A3052' 'A3072' 'A388' 'A361' 'A3079' 'A30' 'A377' 'A35'\n",
      " 'A3122' 'A384' 'A375' 'A3121' 'A3123' 'A373' 'A399' 'A3126' 'A3124'\n",
      " 'A3125' 'A3015' 'A390']\n",
      "roads which at some point don't have any cylists = \n",
      " ['M5' 'A388' 'A35' 'A38' 'A361' 'A386' 'A30' 'A3072' 'A399' 'A377' 'A382'\n",
      " 'A379' 'A380' 'A358' 'A39' 'A3124' 'A303' 'A3122' 'A3123' 'A373' 'A385']\n"
     ]
    }
   ],
   "source": [
    "print(\"roads which have had cycles on them since 2000 = \\n\", cycles_gt0[\"Road\"].unique())\n",
    "print(\"roads which at some point don't have any cylists = \\n\", cycles_0[\"Road\"].unique())"
   ]
  },
  {
   "cell_type": "code",
   "execution_count": 58,
   "metadata": {
    "collapsed": false
   },
   "outputs": [
    {
     "name": "stdout",
     "output_type": "stream",
     "text": [
      "12\n",
      "There are not 15 years worth of data at 8528\n",
      "1\n",
      "There are not 15 years worth of data at 16297\n",
      "1\n",
      "There are not 15 years worth of data at 56290\n",
      "7\n",
      "There are not 15 years worth of data at 58308\n",
      "8\n",
      "There are not 15 years worth of data at 77947\n",
      "12\n",
      "There are not 15 years worth of data at 77956\n",
      "14\n",
      "There are not 15 years worth of data at 74556\n",
      "14\n",
      "There are not 15 years worth of data at 74557\n",
      "8\n",
      "There are not 15 years worth of data at 81066\n",
      "8\n",
      "There are not 15 years worth of data at 81067\n",
      "8\n",
      "There are not 15 years worth of data at 81068\n",
      "8\n",
      "There are not 15 years worth of data at 81069\n",
      "7\n",
      "There are not 15 years worth of data at 81187\n",
      "7\n",
      "There are not 15 years worth of data at 81188\n",
      "7\n",
      "There are not 15 years worth of data at 81189\n"
     ]
    }
   ],
   "source": [
    "unique_roads = data[\"CP\"].unique()\n",
    "\n",
    "\n",
    "cp_missing = []\n",
    "\n",
    "for i,road in enumerate(unique_roads):\n",
    "    years = len(data[data[\"CP\"] == road])\n",
    "    if years != 15:\n",
    "        print(years)\n",
    "        print(\"There are not 15 years worth of data at %s\" %road)\n",
    "        cp_missing.append(road)\n",
    "    "
   ]
  },
  {
   "cell_type": "code",
   "execution_count": 51,
   "metadata": {
    "collapsed": false
   },
   "outputs": [
    {
     "name": "stdout",
     "output_type": "stream",
     "text": [
      "[8528, 16297, 56290, 58308, 77947, 77956, 74556, 74557, 81066, 81067, 81068, 81069, 81187, 81188, 81189]\n"
     ]
    }
   ],
   "source": [
    "# These are the stations with less than 15 years of data\n",
    "print(cp_missing)"
   ]
  },
  {
   "cell_type": "code",
   "execution_count": 57,
   "metadata": {
    "collapsed": false
   },
   "outputs": [
    {
     "name": "stdout",
     "output_type": "stream",
     "text": [
      "----------------\n",
      "CP =  8528\n",
      "26      2000\n",
      "254     2001\n",
      "482     2002\n",
      "710     2003\n",
      "938     2004\n",
      "1166    2005\n",
      "1394    2006\n",
      "1622    2007\n",
      "1853    2008\n",
      "2086    2009\n",
      "2319    2010\n",
      "2552    2011\n",
      "Name: AADFYear, dtype: int64\n",
      "----------------\n",
      "CP =  16297\n",
      "32    2000\n",
      "Name: AADFYear, dtype: int64\n",
      "----------------\n",
      "CP =  56290\n",
      "143    2000\n",
      "Name: AADFYear, dtype: int64\n",
      "----------------\n",
      "CP =  58308\n",
      "160     2000\n",
      "386     2001\n",
      "614     2002\n",
      "842     2003\n",
      "1070    2004\n",
      "1298    2005\n",
      "1526    2006\n",
      "Name: AADFYear, dtype: int64\n",
      "----------------\n",
      "CP =  77947\n",
      "188     2000\n",
      "416     2001\n",
      "644     2002\n",
      "872     2003\n",
      "1100    2004\n",
      "1328    2005\n",
      "1556    2006\n",
      "1783    2007\n",
      "Name: AADFYear, dtype: int64\n",
      "----------------\n",
      "CP =  77956\n",
      "191     2000\n",
      "419     2001\n",
      "647     2002\n",
      "875     2003\n",
      "1103    2004\n",
      "1331    2005\n",
      "1559    2006\n",
      "1786    2007\n",
      "2016    2008\n",
      "2249    2009\n",
      "2482    2010\n",
      "2715    2011\n",
      "Name: AADFYear, dtype: int64\n",
      "----------------\n",
      "CP =  74556\n",
      "400     2001\n",
      "628     2002\n",
      "856     2003\n",
      "1084    2004\n",
      "1312    2005\n",
      "1540    2006\n",
      "1767    2007\n",
      "1998    2008\n",
      "2231    2009\n",
      "2464    2010\n",
      "2697    2011\n",
      "2929    2012\n",
      "3160    2013\n",
      "3391    2014\n",
      "Name: AADFYear, dtype: int64\n",
      "----------------\n",
      "CP =  74557\n",
      "401     2001\n",
      "629     2002\n",
      "857     2003\n",
      "1085    2004\n",
      "1313    2005\n",
      "1541    2006\n",
      "1768    2007\n",
      "1999    2008\n",
      "2232    2009\n",
      "2465    2010\n",
      "2698    2011\n",
      "2930    2012\n",
      "3161    2013\n",
      "3392    2014\n",
      "Name: AADFYear, dtype: int64\n",
      "----------------\n",
      "CP =  81066\n",
      "1804    2007\n",
      "2034    2008\n",
      "2267    2009\n",
      "2500    2010\n",
      "2733    2011\n",
      "2964    2012\n",
      "3195    2013\n",
      "3426    2014\n",
      "Name: AADFYear, dtype: int64\n",
      "----------------\n",
      "CP =  81067\n",
      "1805    2007\n",
      "2035    2008\n",
      "2268    2009\n",
      "2501    2010\n",
      "2734    2011\n",
      "2965    2012\n",
      "3196    2013\n",
      "3427    2014\n",
      "Name: AADFYear, dtype: int64\n",
      "----------------\n",
      "CP =  81068\n",
      "1806    2007\n",
      "2036    2008\n",
      "2269    2009\n",
      "2502    2010\n",
      "2735    2011\n",
      "2966    2012\n",
      "3197    2013\n",
      "3428    2014\n",
      "Name: AADFYear, dtype: int64\n",
      "----------------\n",
      "CP =  81069\n",
      "1807    2007\n",
      "2037    2008\n",
      "2270    2009\n",
      "2503    2010\n",
      "2736    2011\n",
      "2967    2012\n",
      "3198    2013\n",
      "3429    2014\n",
      "Name: AADFYear, dtype: int64\n",
      "----------------\n",
      "CP =  81187\n",
      "2038    2008\n",
      "2271    2009\n",
      "2504    2010\n",
      "2737    2011\n",
      "2968    2012\n",
      "3199    2013\n",
      "3430    2014\n",
      "Name: AADFYear, dtype: int64\n",
      "----------------\n",
      "CP =  81188\n",
      "2039    2008\n",
      "2272    2009\n",
      "2505    2010\n",
      "2738    2011\n",
      "2969    2012\n",
      "3200    2013\n",
      "3431    2014\n",
      "Name: AADFYear, dtype: int64\n",
      "----------------\n",
      "CP =  81189\n",
      "2040    2008\n",
      "2273    2009\n",
      "2506    2010\n",
      "2739    2011\n",
      "2970    2012\n",
      "3201    2013\n",
      "3432    2014\n",
      "Name: AADFYear, dtype: int64\n"
     ]
    }
   ],
   "source": [
    "# Which years are missing? Is it always the same and could there be a reason?\n",
    "for missing in cp_missing:\n",
    "    print (\"----------------\")\n",
    "    print(\"CP = \", missing)\n",
    "    print (data[\"AADFYear\"][data[\"CP\"] == missing])"
   ]
  },
  {
   "cell_type": "code",
   "execution_count": null,
   "metadata": {
    "collapsed": true
   },
   "outputs": [],
   "source": []
  }
 ],
 "metadata": {
  "anaconda-cloud": {},
  "kernelspec": {
   "display_name": "Python [Root]",
   "language": "python",
   "name": "Python [Root]"
  },
  "language_info": {
   "codemirror_mode": {
    "name": "ipython",
    "version": 3
   },
   "file_extension": ".py",
   "mimetype": "text/x-python",
   "name": "python",
   "nbconvert_exporter": "python",
   "pygments_lexer": "ipython3",
   "version": "3.5.2"
  }
 },
 "nbformat": 4,
 "nbformat_minor": 0
}
