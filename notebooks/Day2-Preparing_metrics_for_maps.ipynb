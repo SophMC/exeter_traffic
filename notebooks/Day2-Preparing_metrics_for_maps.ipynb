{
 "cells": [
  {
   "cell_type": "code",
   "execution_count": 1,
   "metadata": {
    "collapsed": true
   },
   "outputs": [],
   "source": [
    "import pandas as pd\n",
    "import numpy as np\n",
    "import seaborn as sns \n",
    "import statsmodels.api as sm\n",
    "import matplotlib.pyplot as plt\n",
    "%matplotlib inline"
   ]
  },
  {
   "cell_type": "code",
   "execution_count": 30,
   "metadata": {
    "collapsed": true
   },
   "outputs": [],
   "source": [
    "# import just the Exeter data\n",
    "exeter_data = pd.read_csv(\"Exeter_city_only.csv\", header = 0)"
   ]
  },
  {
   "cell_type": "code",
   "execution_count": 31,
   "metadata": {
    "collapsed": false
   },
   "outputs": [
    {
     "data": {
      "text/html": [
       "<div>\n",
       "<table border=\"1\" class=\"dataframe\">\n",
       "  <thead>\n",
       "    <tr style=\"text-align: right;\">\n",
       "      <th></th>\n",
       "      <th>AADFYear</th>\n",
       "      <th>CP</th>\n",
       "      <th>Easting</th>\n",
       "      <th>Northing</th>\n",
       "      <th>LinkLength_km</th>\n",
       "      <th>LinkLength_miles</th>\n",
       "      <th>PedalCycles</th>\n",
       "      <th>Motorcycles</th>\n",
       "      <th>CarsTaxis</th>\n",
       "      <th>BusesCoaches</th>\n",
       "      <th>LightGoodsVehicles</th>\n",
       "      <th>V2AxleRigidHGV</th>\n",
       "      <th>V3AxleRigidHGV</th>\n",
       "      <th>V4or5AxleRigidHGV</th>\n",
       "      <th>V3or4AxleArticHGV</th>\n",
       "      <th>V5AxleArticHGV</th>\n",
       "      <th>V6orMoreAxleArticHGV</th>\n",
       "      <th>AllHGVs</th>\n",
       "      <th>AllMotorVehicles</th>\n",
       "    </tr>\n",
       "  </thead>\n",
       "  <tbody>\n",
       "    <tr>\n",
       "      <th>count</th>\n",
       "      <td>240.000000</td>\n",
       "      <td>240.000000</td>\n",
       "      <td>240.000000</td>\n",
       "      <td>240.000000</td>\n",
       "      <td>240.00000</td>\n",
       "      <td>240.000000</td>\n",
       "      <td>240.000000</td>\n",
       "      <td>240.000000</td>\n",
       "      <td>240.000000</td>\n",
       "      <td>240.000000</td>\n",
       "      <td>240.000000</td>\n",
       "      <td>240.000000</td>\n",
       "      <td>240.000000</td>\n",
       "      <td>240.000000</td>\n",
       "      <td>240.000000</td>\n",
       "      <td>240.000000</td>\n",
       "      <td>240.000000</td>\n",
       "      <td>240.000000</td>\n",
       "      <td>240.000000</td>\n",
       "    </tr>\n",
       "    <tr>\n",
       "      <th>mean</th>\n",
       "      <td>2007.000000</td>\n",
       "      <td>44260.562500</td>\n",
       "      <td>294044.312500</td>\n",
       "      <td>90973.375000</td>\n",
       "      <td>2.02500</td>\n",
       "      <td>1.253625</td>\n",
       "      <td>117.783333</td>\n",
       "      <td>323.862500</td>\n",
       "      <td>25339.662500</td>\n",
       "      <td>194.104167</td>\n",
       "      <td>4162.883333</td>\n",
       "      <td>645.445833</td>\n",
       "      <td>186.387500</td>\n",
       "      <td>79.454167</td>\n",
       "      <td>112.550000</td>\n",
       "      <td>233.920833</td>\n",
       "      <td>393.333333</td>\n",
       "      <td>1651.112500</td>\n",
       "      <td>31671.641667</td>\n",
       "    </tr>\n",
       "    <tr>\n",
       "      <th>std</th>\n",
       "      <td>4.329523</td>\n",
       "      <td>29998.460481</td>\n",
       "      <td>2132.815445</td>\n",
       "      <td>1595.575559</td>\n",
       "      <td>1.45842</td>\n",
       "      <td>0.905782</td>\n",
       "      <td>151.224386</td>\n",
       "      <td>175.163551</td>\n",
       "      <td>14129.083842</td>\n",
       "      <td>147.568045</td>\n",
       "      <td>2534.966129</td>\n",
       "      <td>586.312544</td>\n",
       "      <td>150.557666</td>\n",
       "      <td>73.015087</td>\n",
       "      <td>197.185801</td>\n",
       "      <td>440.634325</td>\n",
       "      <td>659.334060</td>\n",
       "      <td>1951.126575</td>\n",
       "      <td>18357.572019</td>\n",
       "    </tr>\n",
       "    <tr>\n",
       "      <th>min</th>\n",
       "      <td>2000.000000</td>\n",
       "      <td>6407.000000</td>\n",
       "      <td>290930.000000</td>\n",
       "      <td>88665.000000</td>\n",
       "      <td>0.50000</td>\n",
       "      <td>0.300000</td>\n",
       "      <td>0.000000</td>\n",
       "      <td>72.000000</td>\n",
       "      <td>7895.000000</td>\n",
       "      <td>27.000000</td>\n",
       "      <td>1063.000000</td>\n",
       "      <td>103.000000</td>\n",
       "      <td>31.000000</td>\n",
       "      <td>2.000000</td>\n",
       "      <td>4.000000</td>\n",
       "      <td>6.000000</td>\n",
       "      <td>9.000000</td>\n",
       "      <td>193.000000</td>\n",
       "      <td>9885.000000</td>\n",
       "    </tr>\n",
       "    <tr>\n",
       "      <th>25%</th>\n",
       "      <td>2003.000000</td>\n",
       "      <td>16971.750000</td>\n",
       "      <td>291880.000000</td>\n",
       "      <td>90087.500000</td>\n",
       "      <td>0.77500</td>\n",
       "      <td>0.475000</td>\n",
       "      <td>9.750000</td>\n",
       "      <td>192.750000</td>\n",
       "      <td>15683.500000</td>\n",
       "      <td>91.000000</td>\n",
       "      <td>2267.750000</td>\n",
       "      <td>254.750000</td>\n",
       "      <td>82.750000</td>\n",
       "      <td>33.750000</td>\n",
       "      <td>21.750000</td>\n",
       "      <td>28.000000</td>\n",
       "      <td>79.000000</td>\n",
       "      <td>560.750000</td>\n",
       "      <td>19208.000000</td>\n",
       "    </tr>\n",
       "    <tr>\n",
       "      <th>50%</th>\n",
       "      <td>2007.000000</td>\n",
       "      <td>37778.000000</td>\n",
       "      <td>294200.000000</td>\n",
       "      <td>90805.000000</td>\n",
       "      <td>1.75000</td>\n",
       "      <td>1.100000</td>\n",
       "      <td>85.500000</td>\n",
       "      <td>273.500000</td>\n",
       "      <td>21476.500000</td>\n",
       "      <td>136.000000</td>\n",
       "      <td>3269.500000</td>\n",
       "      <td>502.000000</td>\n",
       "      <td>153.000000</td>\n",
       "      <td>56.500000</td>\n",
       "      <td>44.000000</td>\n",
       "      <td>63.500000</td>\n",
       "      <td>135.500000</td>\n",
       "      <td>946.000000</td>\n",
       "      <td>25176.500000</td>\n",
       "    </tr>\n",
       "    <tr>\n",
       "      <th>75%</th>\n",
       "      <td>2011.000000</td>\n",
       "      <td>61809.500000</td>\n",
       "      <td>296075.000000</td>\n",
       "      <td>91394.750000</td>\n",
       "      <td>2.90000</td>\n",
       "      <td>1.817500</td>\n",
       "      <td>168.000000</td>\n",
       "      <td>430.000000</td>\n",
       "      <td>30174.500000</td>\n",
       "      <td>268.000000</td>\n",
       "      <td>5375.750000</td>\n",
       "      <td>754.000000</td>\n",
       "      <td>221.000000</td>\n",
       "      <td>99.000000</td>\n",
       "      <td>103.500000</td>\n",
       "      <td>113.500000</td>\n",
       "      <td>226.000000</td>\n",
       "      <td>1601.250000</td>\n",
       "      <td>38200.250000</td>\n",
       "    </tr>\n",
       "    <tr>\n",
       "      <th>max</th>\n",
       "      <td>2014.000000</td>\n",
       "      <td>99846.000000</td>\n",
       "      <td>297000.000000</td>\n",
       "      <td>95000.000000</td>\n",
       "      <td>5.70000</td>\n",
       "      <td>3.540000</td>\n",
       "      <td>1034.000000</td>\n",
       "      <td>862.000000</td>\n",
       "      <td>67688.000000</td>\n",
       "      <td>1120.000000</td>\n",
       "      <td>13695.000000</td>\n",
       "      <td>3362.000000</td>\n",
       "      <td>711.000000</td>\n",
       "      <td>399.000000</td>\n",
       "      <td>1261.000000</td>\n",
       "      <td>1994.000000</td>\n",
       "      <td>2975.000000</td>\n",
       "      <td>8159.000000</td>\n",
       "      <td>84219.000000</td>\n",
       "    </tr>\n",
       "  </tbody>\n",
       "</table>\n",
       "</div>"
      ],
      "text/plain": [
       "          AADFYear            CP        Easting      Northing  LinkLength_km  \\\n",
       "count   240.000000    240.000000     240.000000    240.000000      240.00000   \n",
       "mean   2007.000000  44260.562500  294044.312500  90973.375000        2.02500   \n",
       "std       4.329523  29998.460481    2132.815445   1595.575559        1.45842   \n",
       "min    2000.000000   6407.000000  290930.000000  88665.000000        0.50000   \n",
       "25%    2003.000000  16971.750000  291880.000000  90087.500000        0.77500   \n",
       "50%    2007.000000  37778.000000  294200.000000  90805.000000        1.75000   \n",
       "75%    2011.000000  61809.500000  296075.000000  91394.750000        2.90000   \n",
       "max    2014.000000  99846.000000  297000.000000  95000.000000        5.70000   \n",
       "\n",
       "       LinkLength_miles  PedalCycles  Motorcycles     CarsTaxis  BusesCoaches  \\\n",
       "count        240.000000   240.000000   240.000000    240.000000    240.000000   \n",
       "mean           1.253625   117.783333   323.862500  25339.662500    194.104167   \n",
       "std            0.905782   151.224386   175.163551  14129.083842    147.568045   \n",
       "min            0.300000     0.000000    72.000000   7895.000000     27.000000   \n",
       "25%            0.475000     9.750000   192.750000  15683.500000     91.000000   \n",
       "50%            1.100000    85.500000   273.500000  21476.500000    136.000000   \n",
       "75%            1.817500   168.000000   430.000000  30174.500000    268.000000   \n",
       "max            3.540000  1034.000000   862.000000  67688.000000   1120.000000   \n",
       "\n",
       "       LightGoodsVehicles  V2AxleRigidHGV  V3AxleRigidHGV  V4or5AxleRigidHGV  \\\n",
       "count          240.000000      240.000000      240.000000         240.000000   \n",
       "mean          4162.883333      645.445833      186.387500          79.454167   \n",
       "std           2534.966129      586.312544      150.557666          73.015087   \n",
       "min           1063.000000      103.000000       31.000000           2.000000   \n",
       "25%           2267.750000      254.750000       82.750000          33.750000   \n",
       "50%           3269.500000      502.000000      153.000000          56.500000   \n",
       "75%           5375.750000      754.000000      221.000000          99.000000   \n",
       "max          13695.000000     3362.000000      711.000000         399.000000   \n",
       "\n",
       "       V3or4AxleArticHGV  V5AxleArticHGV  V6orMoreAxleArticHGV      AllHGVs  \\\n",
       "count         240.000000      240.000000            240.000000   240.000000   \n",
       "mean          112.550000      233.920833            393.333333  1651.112500   \n",
       "std           197.185801      440.634325            659.334060  1951.126575   \n",
       "min             4.000000        6.000000              9.000000   193.000000   \n",
       "25%            21.750000       28.000000             79.000000   560.750000   \n",
       "50%            44.000000       63.500000            135.500000   946.000000   \n",
       "75%           103.500000      113.500000            226.000000  1601.250000   \n",
       "max          1261.000000     1994.000000           2975.000000  8159.000000   \n",
       "\n",
       "       AllMotorVehicles  \n",
       "count        240.000000  \n",
       "mean       31671.641667  \n",
       "std        18357.572019  \n",
       "min         9885.000000  \n",
       "25%        19208.000000  \n",
       "50%        25176.500000  \n",
       "75%        38200.250000  \n",
       "max        84219.000000  "
      ]
     },
     "execution_count": 31,
     "metadata": {},
     "output_type": "execute_result"
    }
   ],
   "source": [
    "exeter_data.describe()"
   ]
  },
  {
   "cell_type": "code",
   "execution_count": 44,
   "metadata": {
    "collapsed": false
   },
   "outputs": [],
   "source": [
    "# Perhaps we just want to focus on the smaller roads in Exeter. Lets drop rows with M5 or \n",
    "\n",
    "exeter_inner = exeter_data[(exeter_data[\"Road\"] != \"M5\") & (exeter_data[\"Road\"] != \"A30\")]\n",
    "exeter_outer = exeter_data[(exeter_data[\"Road\"] == \"M5\") | (exeter_data[\"Road\"] == \"A30\")]\n"
   ]
  },
  {
   "cell_type": "code",
   "execution_count": 46,
   "metadata": {
    "collapsed": false
   },
   "outputs": [
    {
     "name": "stdout",
     "output_type": "stream",
     "text": [
      "0    A379\n",
      "1      M5\n",
      "2    A379\n",
      "3    A377\n",
      "4    A377\n",
      "Name: Road, dtype: object\n",
      "0    A379\n",
      "2    A379\n",
      "3    A377\n",
      "4    A377\n",
      "5    A377\n",
      "Name: Road, dtype: object\n",
      "1      M5\n",
      "8     A30\n",
      "10     M5\n",
      "17     M5\n",
      "24    A30\n",
      "Name: Road, dtype: object\n"
     ]
    }
   ],
   "source": [
    "# Check we have the right things in each\n",
    "print(exeter_data[\"Road\"][0:5])\n",
    "print(exeter_inner[\"Road\"][0:5])\n",
    "print(exeter_outer[\"Road\"][0:5])"
   ]
  },
  {
   "cell_type": "code",
   "execution_count": 47,
   "metadata": {
    "collapsed": false
   },
   "outputs": [
    {
     "name": "stdout",
     "output_type": "stream",
     "text": [
      "[ 6407 16382 16971 16972 18081 26410 37674 47077 56414 77996 77997 99845\n",
      " 99846]\n",
      "[16023 37882 56192]\n"
     ]
    }
   ],
   "source": [
    "# how many count points for each?\n",
    "print(exeter_inner[\"CP\"].unique())\n",
    "print(exeter_outer[\"CP\"].unique())"
   ]
  },
  {
   "cell_type": "markdown",
   "metadata": {},
   "source": [
    "#### Only 3 count points in the outer roads."
   ]
  },
  {
   "cell_type": "code",
   "execution_count": 23,
   "metadata": {
    "collapsed": false
   },
   "outputs": [
    {
     "data": {
      "text/plain": [
       "<matplotlib.axes._subplots.AxesSubplot at 0x7f2aea547d68>"
      ]
     },
     "execution_count": 23,
     "metadata": {},
     "output_type": "execute_result"
    },
    {
     "data": {
      "image/png": "[encoded data removed]",
      "text/plain": [
       "<matplotlib.figure.Figure at 0x7f2aea54b908>"
      ]
     },
     "metadata": {},
     "output_type": "display_data"
    }
   ],
   "source": [
    "exeter_inner[\"PedalCycles\"].plot.hist(bins = 100)"
   ]
  },
  {
   "cell_type": "code",
   "execution_count": 48,
   "metadata": {
    "collapsed": false
   },
   "outputs": [
    {
     "data": {
      "text/plain": [
       "<matplotlib.axes._subplots.AxesSubplot at 0x7f2aea2c1fd0>"
      ]
     },
     "execution_count": 48,
     "metadata": {},
     "output_type": "execute_result"
    },
    {
     "data": {
      "image/png": "[encoded data removed]",
      "text/plain": [
       "<matplotlib.figure.Figure at 0x7f2aea278f28>"
      ]
     },
     "metadata": {},
     "output_type": "display_data"
    }
   ],
   "source": [
    "exeter_outer[\"PedalCycles\"].plot.hist(bins = 100)"
   ]
  },
  {
   "cell_type": "code",
   "execution_count": 49,
   "metadata": {
    "collapsed": false
   },
   "outputs": [
    {
     "name": "stdout",
     "output_type": "stream",
     "text": [
      "count    45.000000\n",
      "mean      0.155556\n",
      "std       0.424026\n",
      "min       0.000000\n",
      "25%       0.000000\n",
      "50%       0.000000\n",
      "75%       0.000000\n",
      "max       2.000000\n",
      "Name: PedalCycles, dtype: float64\n",
      "count     195.000000\n",
      "mean      144.928205\n",
      "std       155.638376\n",
      "min         2.000000\n",
      "25%        40.000000\n",
      "50%       101.000000\n",
      "75%       190.500000\n",
      "max      1034.000000\n",
      "Name: PedalCycles, dtype: float64\n"
     ]
    }
   ],
   "source": [
    "# Compare the statistics of the two\n",
    "print(exeter_outer[\"PedalCycles\"].describe())\n",
    "print(exeter_inner[\"PedalCycles\"].describe())"
   ]
  },
  {
   "cell_type": "markdown",
   "metadata": {},
   "source": [
    "### Motorcycles"
   ]
  },
  {
   "cell_type": "code",
   "execution_count": 64,
   "metadata": {
    "collapsed": false
   },
   "outputs": [
    {
     "data": {
      "text/plain": [
       "<matplotlib.axes._subplots.AxesSubplot at 0x7f2ae97973c8>"
      ]
     },
     "execution_count": 64,
     "metadata": {},
     "output_type": "execute_result"
    },
    {
     "data": {
      "image/png": "[encoded data removed]",
      "text/plain": [
       "<matplotlib.figure.Figure at 0x7f2ae97a80f0>"
      ]
     },
     "metadata": {},
     "output_type": "display_data"
    }
   ],
   "source": [
    "exeter_outer[\"Motorcycles\"].plot.kde()"
   ]
  },
  {
   "cell_type": "code",
   "execution_count": 65,
   "metadata": {
    "collapsed": false
   },
   "outputs": [
    {
     "data": {
      "text/plain": [
       "<matplotlib.axes._subplots.AxesSubplot at 0x7f2ae9c33470>"
      ]
     },
     "execution_count": 65,
     "metadata": {},
     "output_type": "execute_result"
    },
    {
     "data": {
      "image/png": "[encoded data removed]",
      "text/plain": [
       "<matplotlib.figure.Figure at 0x7f2ae996ef60>"
      ]
     },
     "metadata": {},
     "output_type": "display_data"
    }
   ],
   "source": [
    "exeter_inner[\"Motorcycles\"].plot.kde()"
   ]
  },
  {
   "cell_type": "code",
   "execution_count": 59,
   "metadata": {
    "collapsed": false
   },
   "outputs": [
    {
     "name": "stdout",
     "output_type": "stream",
     "text": [
      "count     45.000000\n",
      "mean     264.933333\n",
      "std       92.345793\n",
      "min      131.000000\n",
      "25%      196.000000\n",
      "50%      258.000000\n",
      "75%      325.000000\n",
      "max      479.000000\n",
      "Name: Motorcycles, dtype: float64\n",
      "count    195.000000\n",
      "mean     337.461538\n",
      "std      186.745188\n",
      "min       72.000000\n",
      "25%      192.500000\n",
      "50%      277.000000\n",
      "75%      477.500000\n",
      "max      862.000000\n",
      "Name: Motorcycles, dtype: float64\n"
     ]
    }
   ],
   "source": [
    "# Compare the statistics of the two\n",
    "print(exeter_outer[\"Motorcycles\"].describe())\n",
    "print(exeter_inner[\"Motorcycles\"].describe())"
   ]
  },
  {
   "cell_type": "markdown",
   "metadata": {},
   "source": [
    "This makes sense - inside there are 337 and outside 264."
   ]
  },
  {
   "cell_type": "code",
   "execution_count": 63,
   "metadata": {
    "collapsed": false
   },
   "outputs": [
    {
     "data": {
      "text/plain": [
       "<matplotlib.axes._subplots.AxesSubplot at 0x7f2ae98f7fd0>"
      ]
     },
     "execution_count": 63,
     "metadata": {},
     "output_type": "execute_result"
    },
    {
     "data": {
      "image/png": "[encoded data removed]",
      "text/plain": [
       "<matplotlib.figure.Figure at 0x7f2ae995ab70>"
      ]
     },
     "metadata": {},
     "output_type": "display_data"
    }
   ],
   "source": [
    "exeter_outer[\"CarsTaxis\"].plot.kde()"
   ]
  },
  {
   "cell_type": "markdown",
   "metadata": {},
   "source": [
    "### Relative size of the flow across the the roads in the last year\n",
    "\n",
    "For each road, make it relative traffic flow for each vehicle type. This will result in a CP and associated % which can then be added to the road points dataframe. The higher the volume of that particular mode, the larger the dots."
   ]
  },
  {
   "cell_type": "code",
   "execution_count": 71,
   "metadata": {
    "collapsed": false
   },
   "outputs": [
    {
     "name": "stdout",
     "output_type": "stream",
     "text": [
      "['AADFYear', 'CP', 'PedalCycles', 'Motorcycles', 'CarsTaxis', 'BusesCoaches', 'LightGoodsVehicles', 'AllHGVs', 'AllMotorVehicles']\n"
     ]
    }
   ],
   "source": [
    "# extract data for 2014\n",
    "exeter_2014 = exeter_data[[\"AADFYear\",\"CP\",\"PedalCycles\",\"Motorcycles\",\"CarsTaxis\",\"BusesCoaches\",\n",
    "                           \"LightGoodsVehicles\",\"AllHGVs\",\"AllMotorVehicles\"]][exeter_data[\"AADFYear\"] == 2014]\n",
    "\n",
    "print(list(exeter_2014))"
   ]
  },
  {
   "cell_type": "code",
   "execution_count": 78,
   "metadata": {
    "collapsed": false
   },
   "outputs": [],
   "source": [
    "mode = ['PedalCycles', 'Motorcycles', 'CarsTaxis', 'BusesCoaches', 'LightGoodsVehicles', 'AllHGVs', 'AllMotorVehicles']\n",
    "\n",
    "for m in mode:\n",
    "    exeter_2014[m+\"%\"] = exeter_2014[m]/exeter_2014[m].sum()"
   ]
  },
  {
   "cell_type": "code",
   "execution_count": 80,
   "metadata": {
    "collapsed": false
   },
   "outputs": [
    {
     "data": {
      "text/plain": [
       "['AADFYear',\n",
       " 'CP',\n",
       " 'PedalCycles',\n",
       " 'Motorcycles',\n",
       " 'CarsTaxis',\n",
       " 'BusesCoaches',\n",
       " 'LightGoodsVehicles',\n",
       " 'AllHGVs',\n",
       " 'AllMotorVehicles',\n",
       " 'PedalCycles%',\n",
       " 'Motorcycles%',\n",
       " 'CarsTaxis%',\n",
       " 'BusesCoaches%',\n",
       " 'LightGoodsVehicles%',\n",
       " 'AllHGVs%',\n",
       " 'AllMotorVehicles%']"
      ]
     },
     "execution_count": 80,
     "metadata": {},
     "output_type": "execute_result"
    }
   ],
   "source": [
    "list(exeter_2014)"
   ]
  },
  {
   "cell_type": "code",
   "execution_count": 79,
   "metadata": {
    "collapsed": false
   },
   "outputs": [
    {
     "name": "stdout",
     "output_type": "stream",
     "text": [
      "     PedalCycles  PedalCycles%\n",
      "224          744      0.233375\n",
      "225            0      0.000000\n",
      "226           32      0.010038\n",
      "227           95      0.029799\n",
      "228          139      0.043601\n",
      "229           11      0.003450\n",
      "230           38      0.011920\n",
      "231           68      0.021330\n",
      "232            2      0.000627\n",
      "233          159      0.049875\n",
      "234            0      0.000000\n",
      "235            2      0.000627\n",
      "236          825      0.258783\n",
      "237          282      0.088457\n",
      "238          481      0.150878\n",
      "239          310      0.097240\n"
     ]
    }
   ],
   "source": [
    "print(exeter_2014[[\"PedalCycles\",\"PedalCycles%\"]])"
   ]
  },
  {
   "cell_type": "code",
   "execution_count": 76,
   "metadata": {
    "collapsed": false
   },
   "outputs": [
    {
     "name": "stdout",
     "output_type": "stream",
     "text": [
      "1.0\n"
     ]
    }
   ],
   "source": [
    "print(exeter_2014[\"PedalCycles%\"].sum())"
   ]
  },
  {
   "cell_type": "code",
   "execution_count": 82,
   "metadata": {
    "collapsed": false
   },
   "outputs": [
    {
     "name": "stdout",
     "output_type": "stream",
     "text": [
      "     AADFYear     CP  PedalCycles  Motorcycles  CarsTaxis  BusesCoaches  \\\n",
      "224      2014   6407          744          576      24513           279   \n",
      "225      2014  16023            0          148      56860           225   \n",
      "226      2014  16382           32          298      12700           124   \n",
      "227      2014  16971           95          181       9791           176   \n",
      "228      2014  16972          139          292      18409           125   \n",
      "\n",
      "     LightGoodsVehicles  AllHGVs  AllMotorVehicles  PedalCycles%  \\\n",
      "224                5805      911             32084      0.233375   \n",
      "225               13695     6640             77568      0.000000   \n",
      "226                2572      744             16439      0.010038   \n",
      "227                1910      456             12513      0.029799   \n",
      "228                3467      639             22932      0.043601   \n",
      "\n",
      "     Motorcycles%  CarsTaxis%  BusesCoaches%  LightGoodsVehicles%  AllHGVs%  \\\n",
      "224      0.123499    0.061233       0.082131             0.072400  0.036377   \n",
      "225      0.031732    0.142035       0.066235             0.170803  0.265144   \n",
      "226      0.063894    0.031724       0.036503             0.032078  0.029709   \n",
      "227      0.038808    0.024458       0.051810             0.023821  0.018209   \n",
      "228      0.062607    0.045985       0.036797             0.043240  0.025516   \n",
      "\n",
      "     AllMotorVehicles%  \n",
      "224           0.062468  \n",
      "225           0.151025  \n",
      "226           0.032007  \n",
      "227           0.024363  \n",
      "228           0.044649  \n"
     ]
    }
   ],
   "source": [
    "print(exeter_2014[0:5])"
   ]
  },
  {
   "cell_type": "code",
   "execution_count": 83,
   "metadata": {
    "collapsed": true
   },
   "outputs": [],
   "source": [
    "# import the mapping data from road_coords.csv\n",
    "road_coords = pd.read_csv(\"road_coords.csv\", header = 0)"
   ]
  },
  {
   "cell_type": "code",
   "execution_count": 92,
   "metadata": {
    "collapsed": false
   },
   "outputs": [
    {
     "data": {
      "text/html": [
       "<div>\n",
       "<table border=\"1\" class=\"dataframe\">\n",
       "  <thead>\n",
       "    <tr style=\"text-align: right;\">\n",
       "      <th></th>\n",
       "      <th>CP</th>\n",
       "      <th>GridReference</th>\n",
       "      <th>Easting</th>\n",
       "      <th>Northing</th>\n",
       "      <th>Latitude</th>\n",
       "      <th>Longitude</th>\n",
       "      <th>Road</th>\n",
       "      <th>LinkLength_miles</th>\n",
       "      <th>RoadCategory</th>\n",
       "      <th>PedalCycles%</th>\n",
       "    </tr>\n",
       "  </thead>\n",
       "  <tbody>\n",
       "    <tr>\n",
       "      <th>0</th>\n",
       "      <td>6407</td>\n",
       "      <td>SX 93715 89043</td>\n",
       "      <td>293715</td>\n",
       "      <td>89043</td>\n",
       "      <td>50.691292</td>\n",
       "      <td>-3.506076</td>\n",
       "      <td>A379</td>\n",
       "      <td>0.55</td>\n",
       "      <td>PR</td>\n",
       "      <td>0</td>\n",
       "    </tr>\n",
       "    <tr>\n",
       "      <th>1</th>\n",
       "      <td>6407</td>\n",
       "      <td>SX 93841 89119</td>\n",
       "      <td>293841</td>\n",
       "      <td>89119</td>\n",
       "      <td>50.691999</td>\n",
       "      <td>-3.504317</td>\n",
       "      <td>A379</td>\n",
       "      <td>0.55</td>\n",
       "      <td>PR</td>\n",
       "      <td>0</td>\n",
       "    </tr>\n",
       "    <tr>\n",
       "      <th>2</th>\n",
       "      <td>6407</td>\n",
       "      <td>SX 93955 89231</td>\n",
       "      <td>293955</td>\n",
       "      <td>89231</td>\n",
       "      <td>50.693032</td>\n",
       "      <td>-3.502729</td>\n",
       "      <td>A379</td>\n",
       "      <td>0.55</td>\n",
       "      <td>PR</td>\n",
       "      <td>0</td>\n",
       "    </tr>\n",
       "    <tr>\n",
       "      <th>3</th>\n",
       "      <td>6407</td>\n",
       "      <td>SX 94288 89633</td>\n",
       "      <td>294288</td>\n",
       "      <td>89633</td>\n",
       "      <td>50.696702</td>\n",
       "      <td>-3.498137</td>\n",
       "      <td>A379</td>\n",
       "      <td>0.55</td>\n",
       "      <td>PR</td>\n",
       "      <td>0</td>\n",
       "    </tr>\n",
       "    <tr>\n",
       "      <th>4</th>\n",
       "      <td>6407</td>\n",
       "      <td>SX 94180 89559</td>\n",
       "      <td>294180</td>\n",
       "      <td>89559</td>\n",
       "      <td>50.696023</td>\n",
       "      <td>-3.499639</td>\n",
       "      <td>A379</td>\n",
       "      <td>0.55</td>\n",
       "      <td>PR</td>\n",
       "      <td>0</td>\n",
       "    </tr>\n",
       "    <tr>\n",
       "      <th>5</th>\n",
       "      <td>6407</td>\n",
       "      <td>SX 94088 89498</td>\n",
       "      <td>294088</td>\n",
       "      <td>89498</td>\n",
       "      <td>50.695452</td>\n",
       "      <td>-3.500926</td>\n",
       "      <td>A379</td>\n",
       "      <td>0.55</td>\n",
       "      <td>PR</td>\n",
       "      <td>0</td>\n",
       "    </tr>\n",
       "    <tr>\n",
       "      <th>6</th>\n",
       "      <td>6407</td>\n",
       "      <td>SX 94026 89439</td>\n",
       "      <td>294026</td>\n",
       "      <td>89439</td>\n",
       "      <td>50.694908</td>\n",
       "      <td>-3.501785</td>\n",
       "      <td>A379</td>\n",
       "      <td>0.55</td>\n",
       "      <td>PR</td>\n",
       "      <td>0</td>\n",
       "    </tr>\n",
       "    <tr>\n",
       "      <th>7</th>\n",
       "      <td>6407</td>\n",
       "      <td>SX 94010 89384</td>\n",
       "      <td>294010</td>\n",
       "      <td>89384</td>\n",
       "      <td>50.694419</td>\n",
       "      <td>-3.501999</td>\n",
       "      <td>A379</td>\n",
       "      <td>0.55</td>\n",
       "      <td>PR</td>\n",
       "      <td>0</td>\n",
       "    </tr>\n",
       "    <tr>\n",
       "      <th>8</th>\n",
       "      <td>16023</td>\n",
       "      <td>SX 96870 93012</td>\n",
       "      <td>296870</td>\n",
       "      <td>93012</td>\n",
       "      <td>50.727546</td>\n",
       "      <td>-3.462539</td>\n",
       "      <td>M5</td>\n",
       "      <td>1.11</td>\n",
       "      <td>TM</td>\n",
       "      <td>0</td>\n",
       "    </tr>\n",
       "    <tr>\n",
       "      <th>9</th>\n",
       "      <td>16023</td>\n",
       "      <td>SX 96861 92245</td>\n",
       "      <td>296861</td>\n",
       "      <td>92245</td>\n",
       "      <td>50.720645</td>\n",
       "      <td>-3.462453</td>\n",
       "      <td>M5</td>\n",
       "      <td>1.11</td>\n",
       "      <td>TM</td>\n",
       "      <td>0</td>\n",
       "    </tr>\n",
       "    <tr>\n",
       "      <th>10</th>\n",
       "      <td>16023</td>\n",
       "      <td>SX 96904 92909</td>\n",
       "      <td>296904</td>\n",
       "      <td>92909</td>\n",
       "      <td>50.726622</td>\n",
       "      <td>-3.462024</td>\n",
       "      <td>M5</td>\n",
       "      <td>1.11</td>\n",
       "      <td>TM</td>\n",
       "      <td>0</td>\n",
       "    </tr>\n",
       "    <tr>\n",
       "      <th>11</th>\n",
       "      <td>16023</td>\n",
       "      <td>SX 96882 92716</td>\n",
       "      <td>296882</td>\n",
       "      <td>92716</td>\n",
       "      <td>50.724883</td>\n",
       "      <td>-3.462281</td>\n",
       "      <td>M5</td>\n",
       "      <td>1.11</td>\n",
       "      <td>TM</td>\n",
       "      <td>0</td>\n",
       "    </tr>\n",
       "    <tr>\n",
       "      <th>12</th>\n",
       "      <td>16023</td>\n",
       "      <td>SX 96892 92583</td>\n",
       "      <td>296892</td>\n",
       "      <td>92583</td>\n",
       "      <td>50.723688</td>\n",
       "      <td>-3.462110</td>\n",
       "      <td>M5</td>\n",
       "      <td>1.11</td>\n",
       "      <td>TM</td>\n",
       "      <td>0</td>\n",
       "    </tr>\n",
       "    <tr>\n",
       "      <th>13</th>\n",
       "      <td>16023</td>\n",
       "      <td>SX 96871 92474</td>\n",
       "      <td>296871</td>\n",
       "      <td>92474</td>\n",
       "      <td>50.722710</td>\n",
       "      <td>-3.462367</td>\n",
       "      <td>M5</td>\n",
       "      <td>1.11</td>\n",
       "      <td>TM</td>\n",
       "      <td>0</td>\n",
       "    </tr>\n",
       "    <tr>\n",
       "      <th>14</th>\n",
       "      <td>16023</td>\n",
       "      <td>SX 96878 91912</td>\n",
       "      <td>296878</td>\n",
       "      <td>91912</td>\n",
       "      <td>50.717656</td>\n",
       "      <td>-3.462110</td>\n",
       "      <td>M5</td>\n",
       "      <td>1.11</td>\n",
       "      <td>TM</td>\n",
       "      <td>0</td>\n",
       "    </tr>\n",
       "    <tr>\n",
       "      <th>15</th>\n",
       "      <td>16023</td>\n",
       "      <td>SX 96871 91821</td>\n",
       "      <td>296871</td>\n",
       "      <td>91821</td>\n",
       "      <td>50.716841</td>\n",
       "      <td>-3.462195</td>\n",
       "      <td>M5</td>\n",
       "      <td>1.11</td>\n",
       "      <td>TM</td>\n",
       "      <td>0</td>\n",
       "    </tr>\n",
       "    <tr>\n",
       "      <th>16</th>\n",
       "      <td>16023</td>\n",
       "      <td>SX 96818 91593</td>\n",
       "      <td>296818</td>\n",
       "      <td>91593</td>\n",
       "      <td>50.714776</td>\n",
       "      <td>-3.462882</td>\n",
       "      <td>M5</td>\n",
       "      <td>1.11</td>\n",
       "      <td>TM</td>\n",
       "      <td>0</td>\n",
       "    </tr>\n",
       "    <tr>\n",
       "      <th>17</th>\n",
       "      <td>16023</td>\n",
       "      <td>SX 96785 91454</td>\n",
       "      <td>296785</td>\n",
       "      <td>91454</td>\n",
       "      <td>50.713526</td>\n",
       "      <td>-3.463311</td>\n",
       "      <td>M5</td>\n",
       "      <td>1.11</td>\n",
       "      <td>TM</td>\n",
       "      <td>0</td>\n",
       "    </tr>\n",
       "    <tr>\n",
       "      <th>18</th>\n",
       "      <td>16023</td>\n",
       "      <td>SX 96883 92129</td>\n",
       "      <td>296883</td>\n",
       "      <td>92129</td>\n",
       "      <td>50.719613</td>\n",
       "      <td>-3.462110</td>\n",
       "      <td>M5</td>\n",
       "      <td>1.11</td>\n",
       "      <td>TM</td>\n",
       "      <td>0</td>\n",
       "    </tr>\n",
       "    <tr>\n",
       "      <th>19</th>\n",
       "      <td>16382</td>\n",
       "      <td>SX 93361 89141</td>\n",
       "      <td>293361</td>\n",
       "      <td>89141</td>\n",
       "      <td>50.692108</td>\n",
       "      <td>-3.511119</td>\n",
       "      <td>A379</td>\n",
       "      <td>2.17</td>\n",
       "      <td>PR</td>\n",
       "      <td>0</td>\n",
       "    </tr>\n",
       "  </tbody>\n",
       "</table>\n",
       "</div>"
      ],
      "text/plain": [
       "       CP   GridReference  Easting  Northing   Latitude  Longitude  Road  \\\n",
       "0    6407  SX 93715 89043   293715     89043  50.691292  -3.506076  A379   \n",
       "1    6407  SX 93841 89119   293841     89119  50.691999  -3.504317  A379   \n",
       "2    6407  SX 93955 89231   293955     89231  50.693032  -3.502729  A379   \n",
       "3    6407  SX 94288 89633   294288     89633  50.696702  -3.498137  A379   \n",
       "4    6407  SX 94180 89559   294180     89559  50.696023  -3.499639  A379   \n",
       "5    6407  SX 94088 89498   294088     89498  50.695452  -3.500926  A379   \n",
       "6    6407  SX 94026 89439   294026     89439  50.694908  -3.501785  A379   \n",
       "7    6407  SX 94010 89384   294010     89384  50.694419  -3.501999  A379   \n",
       "8   16023  SX 96870 93012   296870     93012  50.727546  -3.462539    M5   \n",
       "9   16023  SX 96861 92245   296861     92245  50.720645  -3.462453    M5   \n",
       "10  16023  SX 96904 92909   296904     92909  50.726622  -3.462024    M5   \n",
       "11  16023  SX 96882 92716   296882     92716  50.724883  -3.462281    M5   \n",
       "12  16023  SX 96892 92583   296892     92583  50.723688  -3.462110    M5   \n",
       "13  16023  SX 96871 92474   296871     92474  50.722710  -3.462367    M5   \n",
       "14  16023  SX 96878 91912   296878     91912  50.717656  -3.462110    M5   \n",
       "15  16023  SX 96871 91821   296871     91821  50.716841  -3.462195    M5   \n",
       "16  16023  SX 96818 91593   296818     91593  50.714776  -3.462882    M5   \n",
       "17  16023  SX 96785 91454   296785     91454  50.713526  -3.463311    M5   \n",
       "18  16023  SX 96883 92129   296883     92129  50.719613  -3.462110    M5   \n",
       "19  16382  SX 93361 89141   293361     89141  50.692108  -3.511119  A379   \n",
       "\n",
       "    LinkLength_miles RoadCategory  PedalCycles%  \n",
       "0               0.55           PR             0  \n",
       "1               0.55           PR             0  \n",
       "2               0.55           PR             0  \n",
       "3               0.55           PR             0  \n",
       "4               0.55           PR             0  \n",
       "5               0.55           PR             0  \n",
       "6               0.55           PR             0  \n",
       "7               0.55           PR             0  \n",
       "8               1.11           TM             0  \n",
       "9               1.11           TM             0  \n",
       "10              1.11           TM             0  \n",
       "11              1.11           TM             0  \n",
       "12              1.11           TM             0  \n",
       "13              1.11           TM             0  \n",
       "14              1.11           TM             0  \n",
       "15              1.11           TM             0  \n",
       "16              1.11           TM             0  \n",
       "17              1.11           TM             0  \n",
       "18              1.11           TM             0  \n",
       "19              2.17           PR             0  "
      ]
     },
     "execution_count": 92,
     "metadata": {},
     "output_type": "execute_result"
    }
   ],
   "source": [
    "len(road_coords)\n",
    "road_coords[0:20]"
   ]
  },
  {
   "cell_type": "code",
   "execution_count": 103,
   "metadata": {
    "collapsed": false
   },
   "outputs": [
    {
     "name": "stderr",
     "output_type": "stream",
     "text": [
      "/home/sophie/anaconda3/lib/python3.5/site-packages/ipykernel/__main__.py:13: SettingWithCopyWarning: \n",
      "A value is trying to be set on a copy of a slice from a DataFrame\n",
      "\n",
      "See the caveats in the documentation: http://pandas.pydata.org/pandas-docs/stable/indexing.html#indexing-view-versus-copy\n"
     ]
    }
   ],
   "source": [
    "# Loop over the unique CP values in exeter_2014 and insert an extra column to the rooad_coords with the % values for each\n",
    "# of the road categories\n",
    "\n",
    "mode = ['PedalCycles', 'Motorcycles', 'CarsTaxis', 'BusesCoaches', 'LightGoodsVehicles', 'AllHGVs', 'AllMotorVehicles']\n",
    "\n",
    "    \n",
    "for m in mode:\n",
    "    road_coords[m+\"%\"] = 0\n",
    "    for CP in exeter_2014[\"CP\"]:        \n",
    "        #print(CP)\n",
    "        n = len(road_coords[road_coords[\"CP\"] == CP])\n",
    "        #print(n)\n",
    "        road_coords[m+\"%\"][road_coords[\"CP\"] == CP] = (exeter_2014[m+\"%\"][exeter_2014[\"CP\"] == CP].tolist()) * n\n",
    "    "
   ]
  },
  {
   "cell_type": "markdown",
   "metadata": {},
   "source": [
    "#### Now we have a dataframe with normalised for every data point along it's road.\n",
    "Save it for later use."
   ]
  },
  {
   "cell_type": "code",
   "execution_count": 109,
   "metadata": {
    "collapsed": true
   },
   "outputs": [],
   "source": [
    "# Save the new dataframe of points for later use\n",
    "road_coords.to_csv('road_coords_norm_vals.csv', index = False)"
   ]
  },
  {
   "cell_type": "code",
   "execution_count": null,
   "metadata": {
    "collapsed": true
   },
   "outputs": [],
   "source": []
  },
  {
   "cell_type": "code",
   "execution_count": 108,
   "metadata": {
    "collapsed": false
   },
   "outputs": [
    {
     "name": "stdout",
     "output_type": "stream",
     "text": [
      "[ 0.23337516  0.          0.01003764  0.02979925  0.043601    0.00345044\n",
      "  0.0119197   0.02132999  0.00062735  0.04987453  0.25878294  0.08845671\n",
      "  0.15087829  0.09723965]\n",
      "224    0.233375\n",
      "225    0.000000\n",
      "226    0.010038\n",
      "227    0.029799\n",
      "228    0.043601\n",
      "229    0.003450\n",
      "230    0.011920\n",
      "231    0.021330\n",
      "232    0.000627\n",
      "233    0.049875\n",
      "234    0.000000\n",
      "235    0.000627\n",
      "236    0.258783\n",
      "237    0.088457\n",
      "238    0.150878\n",
      "239    0.097240\n",
      "Name: PedalCycles%, dtype: float64\n"
     ]
    }
   ],
   "source": [
    "print(road_coords[\"PedalCycles%\"].unique())\n",
    "print(exeter_2014[\"PedalCycles%\"])"
   ]
  },
  {
   "cell_type": "code",
   "execution_count": null,
   "metadata": {
    "collapsed": true
   },
   "outputs": [],
   "source": []
  }
 ],
 "metadata": {
  "anaconda-cloud": {},
  "kernelspec": {
   "display_name": "Python [Root]",
   "language": "python",
   "name": "Python [Root]"
  },
  "language_info": {
   "codemirror_mode": {
    "name": "ipython",
    "version": 3
   },
   "file_extension": ".py",
   "mimetype": "text/x-python",
   "name": "python",
   "nbconvert_exporter": "python",
   "pygments_lexer": "ipython3",
   "version": "3.5.2"
  }
 },
 "nbformat": 4,
 "nbformat_minor": 0
}
