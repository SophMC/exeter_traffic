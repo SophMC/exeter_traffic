{
 "cells": [
  {
   "cell_type": "code",
   "execution_count": 1,
   "metadata": {
    "collapsed": true
   },
   "outputs": [],
   "source": [
    "import pandas as pd\n",
    "import numpy as np\n",
    "import seaborn as sns \n",
    "import statsmodels.api as sm\n",
    "import matplotlib.pyplot as plt\n",
    "%matplotlib inline"
   ]
  },
  {
   "cell_type": "code",
   "execution_count": 17,
   "metadata": {
    "collapsed": true
   },
   "outputs": [],
   "source": [
    "# import just the Exeter data\n",
    "exeter_data = pd.read_csv(\"Exeter_city_only.csv\", header = 0)"
   ]
  },
  {
   "cell_type": "code",
   "execution_count": 18,
   "metadata": {
    "collapsed": false
   },
   "outputs": [
    {
     "data": {
      "text/plain": [
       "array([ 6407, 16023, 16382, 16971, 16972, 18081, 26410, 37674, 37882,\n",
       "       47077, 56192, 56414, 77996, 77997, 99845, 99846])"
      ]
     },
     "execution_count": 18,
     "metadata": {},
     "output_type": "execute_result"
    }
   ],
   "source": [
    "exeter_data[\"CP\"].unique()"
   ]
  },
  {
   "cell_type": "markdown",
   "metadata": {},
   "source": [
    "Ideally for each of these points we will have 3 sets of coordinates which we can then plots some flows for. "
   ]
  },
  {
   "cell_type": "code",
   "execution_count": 8,
   "metadata": {
    "collapsed": false
   },
   "outputs": [
    {
     "data": {
      "text/html": [
       "<div>\n",
       "<table border=\"1\" class=\"dataframe\">\n",
       "  <thead>\n",
       "    <tr style=\"text-align: right;\">\n",
       "      <th></th>\n",
       "      <th>AADFYear</th>\n",
       "      <th>Road</th>\n",
       "      <th>CP</th>\n",
       "      <th>StartJunction</th>\n",
       "      <th>EndJunction</th>\n",
       "      <th>LinkLength_km</th>\n",
       "    </tr>\n",
       "  </thead>\n",
       "  <tbody>\n",
       "    <tr>\n",
       "      <th>0</th>\n",
       "      <td>2000</td>\n",
       "      <td>A379</td>\n",
       "      <td>6407</td>\n",
       "      <td>Sannerville Way Rndbt</td>\n",
       "      <td>Glasshouse Lane</td>\n",
       "      <td>0.9</td>\n",
       "    </tr>\n",
       "    <tr>\n",
       "      <th>1</th>\n",
       "      <td>2000</td>\n",
       "      <td>M5</td>\n",
       "      <td>16023</td>\n",
       "      <td>30</td>\n",
       "      <td>29</td>\n",
       "      <td>1.8</td>\n",
       "    </tr>\n",
       "    <tr>\n",
       "      <th>2</th>\n",
       "      <td>2000</td>\n",
       "      <td>A379</td>\n",
       "      <td>16382</td>\n",
       "      <td>Bridge road/Sannerville Way Rndbt</td>\n",
       "      <td>A38 Mid Junction</td>\n",
       "      <td>3.5</td>\n",
       "    </tr>\n",
       "    <tr>\n",
       "      <th>3</th>\n",
       "      <td>2000</td>\n",
       "      <td>A377</td>\n",
       "      <td>16971</td>\n",
       "      <td>A3015 Western Way</td>\n",
       "      <td>B3183 New North Road</td>\n",
       "      <td>2.1</td>\n",
       "    </tr>\n",
       "    <tr>\n",
       "      <th>4</th>\n",
       "      <td>2000</td>\n",
       "      <td>A377</td>\n",
       "      <td>16972</td>\n",
       "      <td>B3123</td>\n",
       "      <td>A3015 Nr Frog St</td>\n",
       "      <td>1.7</td>\n",
       "    </tr>\n",
       "    <tr>\n",
       "      <th>5</th>\n",
       "      <td>2000</td>\n",
       "      <td>A377</td>\n",
       "      <td>18081</td>\n",
       "      <td>A30</td>\n",
       "      <td>/B3123</td>\n",
       "      <td>0.6</td>\n",
       "    </tr>\n",
       "    <tr>\n",
       "      <th>6</th>\n",
       "      <td>2000</td>\n",
       "      <td>A379</td>\n",
       "      <td>26410</td>\n",
       "      <td>A3015 Topsham Road</td>\n",
       "      <td>A3015</td>\n",
       "      <td>0.8</td>\n",
       "    </tr>\n",
       "    <tr>\n",
       "      <th>7</th>\n",
       "      <td>2000</td>\n",
       "      <td>A376</td>\n",
       "      <td>37674</td>\n",
       "      <td>M5 Jct 30</td>\n",
       "      <td>M5</td>\n",
       "      <td>0.7</td>\n",
       "    </tr>\n",
       "    <tr>\n",
       "      <th>8</th>\n",
       "      <td>2000</td>\n",
       "      <td>A30</td>\n",
       "      <td>37882</td>\n",
       "      <td>A377</td>\n",
       "      <td>M5 Jct 31</td>\n",
       "      <td>3.6</td>\n",
       "    </tr>\n",
       "    <tr>\n",
       "      <th>9</th>\n",
       "      <td>2000</td>\n",
       "      <td>A377</td>\n",
       "      <td>47077</td>\n",
       "      <td>B3183 New North Road</td>\n",
       "      <td>A396</td>\n",
       "      <td>1.2</td>\n",
       "    </tr>\n",
       "    <tr>\n",
       "      <th>10</th>\n",
       "      <td>2000</td>\n",
       "      <td>M5</td>\n",
       "      <td>56192</td>\n",
       "      <td>31</td>\n",
       "      <td>30</td>\n",
       "      <td>5.7</td>\n",
       "    </tr>\n",
       "    <tr>\n",
       "      <th>11</th>\n",
       "      <td>2000</td>\n",
       "      <td>A379</td>\n",
       "      <td>56414</td>\n",
       "      <td>A3015</td>\n",
       "      <td>M5 Jct 30</td>\n",
       "      <td>2.1</td>\n",
       "    </tr>\n",
       "    <tr>\n",
       "      <th>12</th>\n",
       "      <td>2000</td>\n",
       "      <td>A379</td>\n",
       "      <td>77996</td>\n",
       "      <td>Glasshouse Lane</td>\n",
       "      <td>A3015 Topsham Road</td>\n",
       "      <td>0.5</td>\n",
       "    </tr>\n",
       "    <tr>\n",
       "      <th>13</th>\n",
       "      <td>2000</td>\n",
       "      <td>A3015</td>\n",
       "      <td>77997</td>\n",
       "      <td>Moor Lane roundabout</td>\n",
       "      <td>M5 Jct 29</td>\n",
       "      <td>0.6</td>\n",
       "    </tr>\n",
       "    <tr>\n",
       "      <th>14</th>\n",
       "      <td>2000</td>\n",
       "      <td>A3015</td>\n",
       "      <td>99845</td>\n",
       "      <td>A377 Frog Street</td>\n",
       "      <td>A379</td>\n",
       "      <td>3.9</td>\n",
       "    </tr>\n",
       "    <tr>\n",
       "      <th>15</th>\n",
       "      <td>2000</td>\n",
       "      <td>A3015</td>\n",
       "      <td>99846</td>\n",
       "      <td>A379</td>\n",
       "      <td>Moor Lane roundabout</td>\n",
       "      <td>2.7</td>\n",
       "    </tr>\n",
       "    <tr>\n",
       "      <th>16</th>\n",
       "      <td>2001</td>\n",
       "      <td>A379</td>\n",
       "      <td>6407</td>\n",
       "      <td>Sannerville Way Rndbt</td>\n",
       "      <td>Glasshouse Lane</td>\n",
       "      <td>0.9</td>\n",
       "    </tr>\n",
       "  </tbody>\n",
       "</table>\n",
       "</div>"
      ],
      "text/plain": [
       "    AADFYear   Road     CP                      StartJunction  \\\n",
       "0       2000   A379   6407              Sannerville Way Rndbt   \n",
       "1       2000     M5  16023                                 30   \n",
       "2       2000   A379  16382  Bridge road/Sannerville Way Rndbt   \n",
       "3       2000   A377  16971                  A3015 Western Way   \n",
       "4       2000   A377  16972                              B3123   \n",
       "5       2000   A377  18081                                A30   \n",
       "6       2000   A379  26410                 A3015 Topsham Road   \n",
       "7       2000   A376  37674                          M5 Jct 30   \n",
       "8       2000    A30  37882                               A377   \n",
       "9       2000   A377  47077               B3183 New North Road   \n",
       "10      2000     M5  56192                                 31   \n",
       "11      2000   A379  56414                              A3015   \n",
       "12      2000   A379  77996                    Glasshouse Lane   \n",
       "13      2000  A3015  77997               Moor Lane roundabout   \n",
       "14      2000  A3015  99845                   A377 Frog Street   \n",
       "15      2000  A3015  99846                               A379   \n",
       "16      2001   A379   6407              Sannerville Way Rndbt   \n",
       "\n",
       "             EndJunction  LinkLength_km  \n",
       "0        Glasshouse Lane            0.9  \n",
       "1                     29            1.8  \n",
       "2       A38 Mid Junction            3.5  \n",
       "3   B3183 New North Road            2.1  \n",
       "4       A3015 Nr Frog St            1.7  \n",
       "5                 /B3123            0.6  \n",
       "6                  A3015            0.8  \n",
       "7                     M5            0.7  \n",
       "8              M5 Jct 31            3.6  \n",
       "9                   A396            1.2  \n",
       "10                    30            5.7  \n",
       "11             M5 Jct 30            2.1  \n",
       "12    A3015 Topsham Road            0.5  \n",
       "13             M5 Jct 29            0.6  \n",
       "14                  A379            3.9  \n",
       "15  Moor Lane roundabout            2.7  \n",
       "16       Glasshouse Lane            0.9  "
      ]
     },
     "execution_count": 8,
     "metadata": {},
     "output_type": "execute_result"
    }
   ],
   "source": [
    "exeter_data[[\"AADFYear\",\"Road\",\"CP\",\"StartJunction\",\"EndJunction\",\"LinkLength_km\"]][0:17]"
   ]
  },
  {
   "cell_type": "code",
   "execution_count": 29,
   "metadata": {
    "collapsed": false
   },
   "outputs": [],
   "source": [
    "# Want to make a dataframe for each road. Each road now has a set of points associated with it. \n",
    "\n",
    "# Loop over each of the CP numbers and make one dataframe out of them\n",
    "\n",
    "Exeter_CPs = exeter_data[\"CP\"].unique()\n",
    "\n",
    "def make_df(CP):\n",
    "    road_df = pd.read_csv(\"%s_all.csv\" %str(CP), \n",
    "                              names = [\"CP\",\"GridReference\",\"Easting\",\"Northing\",\"Latitude\",\"Longitude\",\"Postcode\"],\n",
    "                              usecols = [0,1,2,3,4,5,6],header = 0)\n",
    "    return road_df\n"
   ]
  },
  {
   "cell_type": "code",
   "execution_count": 32,
   "metadata": {
    "collapsed": false
   },
   "outputs": [],
   "source": [
    "store_dfs = []\n",
    "\n",
    "for CP in Exeter_CPs:\n",
    "    df = make_df(CP)\n",
    "    df[\"CP\"] = CP\n",
    "    store_dfs.append(df)\n",
    "\n",
    "# Now append\n",
    "store_dfs = pd.concat(store_dfs, axis=0) "
   ]
  },
  {
   "cell_type": "code",
   "execution_count": 35,
   "metadata": {
    "collapsed": false
   },
   "outputs": [
    {
     "data": {
      "text/html": [
       "<div>\n",
       "<table border=\"1\" class=\"dataframe\">\n",
       "  <thead>\n",
       "    <tr style=\"text-align: right;\">\n",
       "      <th></th>\n",
       "      <th>CP</th>\n",
       "      <th>GridReference</th>\n",
       "      <th>Easting</th>\n",
       "      <th>Northing</th>\n",
       "      <th>Latitude</th>\n",
       "      <th>Longitude</th>\n",
       "      <th>Postcode</th>\n",
       "    </tr>\n",
       "  </thead>\n",
       "  <tbody>\n",
       "    <tr>\n",
       "      <th>0</th>\n",
       "      <td>6407</td>\n",
       "      <td>SX 93715 89043</td>\n",
       "      <td>293715</td>\n",
       "      <td>89043</td>\n",
       "      <td>50.691292</td>\n",
       "      <td>-3.506076</td>\n",
       "      <td>EX6 \\n8AA</td>\n",
       "    </tr>\n",
       "    <tr>\n",
       "      <th>1</th>\n",
       "      <td>6407</td>\n",
       "      <td>SX 93841 89119</td>\n",
       "      <td>293841</td>\n",
       "      <td>89119</td>\n",
       "      <td>50.691999</td>\n",
       "      <td>-3.504317</td>\n",
       "      <td>EX2 \\n8XR</td>\n",
       "    </tr>\n",
       "    <tr>\n",
       "      <th>2</th>\n",
       "      <td>6407</td>\n",
       "      <td>SX 93955 89231</td>\n",
       "      <td>293955</td>\n",
       "      <td>89231</td>\n",
       "      <td>50.693032</td>\n",
       "      <td>-3.502729</td>\n",
       "      <td>EX6 \\n8AA</td>\n",
       "    </tr>\n",
       "    <tr>\n",
       "      <th>3</th>\n",
       "      <td>6407</td>\n",
       "      <td>SX 94288 89633</td>\n",
       "      <td>294288</td>\n",
       "      <td>89633</td>\n",
       "      <td>50.696702</td>\n",
       "      <td>-3.498137</td>\n",
       "      <td>EX2 \\n7BB</td>\n",
       "    </tr>\n",
       "    <tr>\n",
       "      <th>4</th>\n",
       "      <td>6407</td>\n",
       "      <td>SX 94180 89559</td>\n",
       "      <td>294180</td>\n",
       "      <td>89559</td>\n",
       "      <td>50.696023</td>\n",
       "      <td>-3.499639</td>\n",
       "      <td>EX2 \\n7BB</td>\n",
       "    </tr>\n",
       "  </tbody>\n",
       "</table>\n",
       "</div>"
      ],
      "text/plain": [
       "     CP   GridReference  Easting  Northing   Latitude  Longitude   Postcode\n",
       "0  6407  SX 93715 89043   293715     89043  50.691292  -3.506076  EX6 \\n8AA\n",
       "1  6407  SX 93841 89119   293841     89119  50.691999  -3.504317  EX2 \\n8XR\n",
       "2  6407  SX 93955 89231   293955     89231  50.693032  -3.502729  EX6 \\n8AA\n",
       "3  6407  SX 94288 89633   294288     89633  50.696702  -3.498137  EX2 \\n7BB\n",
       "4  6407  SX 94180 89559   294180     89559  50.696023  -3.499639  EX2 \\n7BB"
      ]
     },
     "execution_count": 35,
     "metadata": {},
     "output_type": "execute_result"
    }
   ],
   "source": [
    "store_dfs[0:5]"
   ]
  },
  {
   "cell_type": "markdown",
   "metadata": {},
   "source": [
    "Now we have a string of points along each CP. So we have mapped some roads. \n",
    "Now we want to plot these on a map!"
   ]
  },
  {
   "cell_type": "code",
   "execution_count": null,
   "metadata": {
    "collapsed": true
   },
   "outputs": [],
   "source": [
    "# Save the new dataframe of points for later use\n"
   ]
  }
 ],
 "metadata": {
  "anaconda-cloud": {},
  "kernelspec": {
   "display_name": "Python [Root]",
   "language": "python",
   "name": "Python [Root]"
  },
  "language_info": {
   "codemirror_mode": {
    "name": "ipython",
    "version": 3
   },
   "file_extension": ".py",
   "mimetype": "text/x-python",
   "name": "python",
   "nbconvert_exporter": "python",
   "pygments_lexer": "ipython3",
   "version": "3.5.2"
  }
 },
 "nbformat": 4,
 "nbformat_minor": 0
}
